{
 "cells": [
  {
   "cell_type": "code",
   "execution_count": 19,
   "metadata": {},
   "outputs": [
    {
     "name": "stderr",
     "output_type": "stream",
     "text": [
      "C:\\Users\\rohit\\AppData\\Local\\Temp\\ipykernel_30616\\3250362929.py:3: DtypeWarning: Columns (0,11,17,23,24,25,31,32,33,34,35,44,46,52,56,67,72,150) have mixed types. Specify dtype option on import or set low_memory=False.\n",
      "  df = pd.read_csv(\"./fooddb/foodfacrs_comma.csv\", sep=\",\")\n"
     ]
    }
   ],
   "source": [
    "import pandas as pd\n",
    "indices = [\"product_name\", \"generic_name\", \"stores\", \"ingredients_text\", \"ingredients_tags\"]\n",
    "df = pd.read_csv(\"./fooddb/sample.csv\", sep=\",\")\n"
   ]
  },
  {
   "cell_type": "code",
   "execution_count": 23,
   "metadata": {},
   "outputs": [
    {
     "name": "stdout",
     "output_type": "stream",
     "text": [
      "product_name :\t 21\n",
      "generic_name :\t 83\n",
      "stores :\t 25\n",
      "ingredients_text :\t 684\n",
      "ingredients_tags :\t 391\n"
     ]
    }
   ],
   "source": [
    "def max_token_length(string): \n",
    "    return len(str(string).split(','))\n",
    "\n",
    "for index in indices: \n",
    "    print(index, \":\\t\", df[index].apply(max_token_length).max())\n"
   ]
  },
  {
   "cell_type": "code",
   "execution_count": 22,
   "metadata": {},
   "outputs": [
    {
     "data": {
      "text/html": [
       "<div>\n",
       "<style scoped>\n",
       "    .dataframe tbody tr th:only-of-type {\n",
       "        vertical-align: middle;\n",
       "    }\n",
       "\n",
       "    .dataframe tbody tr th {\n",
       "        vertical-align: top;\n",
       "    }\n",
       "\n",
       "    .dataframe thead th {\n",
       "        text-align: right;\n",
       "    }\n",
       "</style>\n",
       "<table border=\"1\" class=\"dataframe\">\n",
       "  <thead>\n",
       "    <tr style=\"text-align: right;\">\n",
       "      <th></th>\n",
       "      <th>product_name</th>\n",
       "      <th>generic_name</th>\n",
       "      <th>stores</th>\n",
       "      <th>ingredients_text</th>\n",
       "      <th>ingredients_tags</th>\n",
       "    </tr>\n",
       "  </thead>\n",
       "  <tbody>\n",
       "    <tr>\n",
       "      <th>0</th>\n",
       "      <td>jeunes pousses</td>\n",
       "      <td>NaN</td>\n",
       "      <td>NaN</td>\n",
       "      <td>NaN</td>\n",
       "      <td>NaN</td>\n",
       "    </tr>\n",
       "    <tr>\n",
       "      <th>1</th>\n",
       "      <td>Andrè</td>\n",
       "      <td>NaN</td>\n",
       "      <td>NaN</td>\n",
       "      <td>NaN</td>\n",
       "      <td>NaN</td>\n",
       "    </tr>\n",
       "    <tr>\n",
       "      <th>2</th>\n",
       "      <td>L.casei</td>\n",
       "      <td>NaN</td>\n",
       "      <td>NaN</td>\n",
       "      <td>Leche semidesnatada, azucar 6.9%, leche desnat...</td>\n",
       "      <td>en:semi-skimmed-milk,en:dairy,en:milk,en:sugar...</td>\n",
       "    </tr>\n",
       "    <tr>\n",
       "      <th>3</th>\n",
       "      <td>Skyr</td>\n",
       "      <td>NaN</td>\n",
       "      <td>NaN</td>\n",
       "      <td>NaN</td>\n",
       "      <td>NaN</td>\n",
       "    </tr>\n",
       "    <tr>\n",
       "      <th>4</th>\n",
       "      <td>Vitória crackers</td>\n",
       "      <td>NaN</td>\n",
       "      <td>NaN</td>\n",
       "      <td>NaN</td>\n",
       "      <td>NaN</td>\n",
       "    </tr>\n",
       "  </tbody>\n",
       "</table>\n",
       "</div>"
      ],
      "text/plain": [
       "       product_name generic_name stores  \\\n",
       "0    jeunes pousses          NaN    NaN   \n",
       "1             Andrè          NaN    NaN   \n",
       "2           L.casei          NaN    NaN   \n",
       "3              Skyr          NaN    NaN   \n",
       "4  Vitória crackers          NaN    NaN   \n",
       "\n",
       "                                    ingredients_text  \\\n",
       "0                                                NaN   \n",
       "1                                                NaN   \n",
       "2  Leche semidesnatada, azucar 6.9%, leche desnat...   \n",
       "3                                                NaN   \n",
       "4                                                NaN   \n",
       "\n",
       "                                    ingredients_tags  \n",
       "0                                                NaN  \n",
       "1                                                NaN  \n",
       "2  en:semi-skimmed-milk,en:dairy,en:milk,en:sugar...  \n",
       "3                                                NaN  \n",
       "4                                                NaN  "
      ]
     },
     "execution_count": 22,
     "metadata": {},
     "output_type": "execute_result"
    }
   ],
   "source": [
    "df[indices].head()"
   ]
  }
 ],
 "metadata": {
  "kernelspec": {
   "display_name": "treehacks",
   "language": "python",
   "name": "python3"
  },
  "language_info": {
   "codemirror_mode": {
    "name": "ipython",
    "version": 3
   },
   "file_extension": ".py",
   "mimetype": "text/x-python",
   "name": "python",
   "nbconvert_exporter": "python",
   "pygments_lexer": "ipython3",
   "version": "3.11.7"
  }
 },
 "nbformat": 4,
 "nbformat_minor": 2
}
